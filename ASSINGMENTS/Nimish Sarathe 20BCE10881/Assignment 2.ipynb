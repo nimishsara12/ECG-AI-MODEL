{
  "cells": [
    {
      "cell_type": "code",
      "execution_count": 5,
      "metadata": {
        "colab": {
          "base_uri": "https://localhost:8080/",
          "height": 206
        },
        "id": "0RqzzLuI3SBk",
        "outputId": "e70b2ed5-e14d-494d-955f-df6aaced4e8d"
      },
      "outputs": [
        {
          "data": {
            "text/html": [
              "<div>\n",
              "<style scoped>\n",
              "    .dataframe tbody tr th:only-of-type {\n",
              "        vertical-align: middle;\n",
              "    }\n",
              "\n",
              "    .dataframe tbody tr th {\n",
              "        vertical-align: top;\n",
              "    }\n",
              "\n",
              "    .dataframe thead th {\n",
              "        text-align: right;\n",
              "    }\n",
              "</style>\n",
              "<table border=\"1\" class=\"dataframe\">\n",
              "  <thead>\n",
              "    <tr style=\"text-align: right;\">\n",
              "      <th></th>\n",
              "      <th>Age</th>\n",
              "      <th>Sex</th>\n",
              "      <th>BP</th>\n",
              "      <th>Cholesterol</th>\n",
              "      <th>Na_to_K</th>\n",
              "      <th>Drug</th>\n",
              "    </tr>\n",
              "  </thead>\n",
              "  <tbody>\n",
              "    <tr>\n",
              "      <th>0</th>\n",
              "      <td>23</td>\n",
              "      <td>F</td>\n",
              "      <td>HIGH</td>\n",
              "      <td>HIGH</td>\n",
              "      <td>25.355</td>\n",
              "      <td>DrugY</td>\n",
              "    </tr>\n",
              "    <tr>\n",
              "      <th>1</th>\n",
              "      <td>47</td>\n",
              "      <td>M</td>\n",
              "      <td>LOW</td>\n",
              "      <td>HIGH</td>\n",
              "      <td>13.093</td>\n",
              "      <td>drugC</td>\n",
              "    </tr>\n",
              "    <tr>\n",
              "      <th>2</th>\n",
              "      <td>47</td>\n",
              "      <td>M</td>\n",
              "      <td>LOW</td>\n",
              "      <td>HIGH</td>\n",
              "      <td>10.114</td>\n",
              "      <td>drugC</td>\n",
              "    </tr>\n",
              "    <tr>\n",
              "      <th>3</th>\n",
              "      <td>28</td>\n",
              "      <td>F</td>\n",
              "      <td>NORMAL</td>\n",
              "      <td>HIGH</td>\n",
              "      <td>7.798</td>\n",
              "      <td>drugX</td>\n",
              "    </tr>\n",
              "    <tr>\n",
              "      <th>4</th>\n",
              "      <td>61</td>\n",
              "      <td>F</td>\n",
              "      <td>LOW</td>\n",
              "      <td>HIGH</td>\n",
              "      <td>18.043</td>\n",
              "      <td>DrugY</td>\n",
              "    </tr>\n",
              "  </tbody>\n",
              "</table>\n",
              "</div>"
            ],
            "text/plain": [
              "   Age Sex      BP Cholesterol  Na_to_K   Drug\n",
              "0   23   F    HIGH        HIGH   25.355  DrugY\n",
              "1   47   M     LOW        HIGH   13.093  drugC\n",
              "2   47   M     LOW        HIGH   10.114  drugC\n",
              "3   28   F  NORMAL        HIGH    7.798  drugX\n",
              "4   61   F     LOW        HIGH   18.043  DrugY"
            ]
          },
          "execution_count": 5,
          "metadata": {},
          "output_type": "execute_result"
        }
      ],
      "source": [
        "# Assingment 2\n",
        "# Nimish Sarathe 20BCE10881\n",
        "\n",
        "import numpy as np\n",
        "import pandas as pd\n",
        "df = pd.read_csv('drug200.csv')  \n",
        "df.head()  "
      ]
    },
    {
      "cell_type": "code",
      "execution_count": 6,
      "metadata": {
        "colab": {
          "base_uri": "https://localhost:8080/"
        },
        "id": "6hQsR1ESBNuE",
        "outputId": "9e193f5d-a93e-4eb1-ef90-215ade63a604"
      },
      "outputs": [
        {
          "name": "stdout",
          "output_type": "stream",
          "text": [
            "<class 'pandas.core.frame.DataFrame'>\n",
            "RangeIndex: 200 entries, 0 to 199\n",
            "Data columns (total 6 columns):\n",
            " #   Column       Non-Null Count  Dtype  \n",
            "---  ------       --------------  -----  \n",
            " 0   Age          200 non-null    int64  \n",
            " 1   Sex          200 non-null    object \n",
            " 2   BP           200 non-null    object \n",
            " 3   Cholesterol  200 non-null    object \n",
            " 4   Na_to_K      200 non-null    float64\n",
            " 5   Drug         200 non-null    object \n",
            "dtypes: float64(1), int64(1), object(4)\n",
            "memory usage: 9.5+ KB\n"
          ]
        }
      ],
      "source": [
        "df.info()"
      ]
    },
    {
      "cell_type": "code",
      "execution_count": 7,
      "metadata": {
        "colab": {
          "base_uri": "https://localhost:8080/",
          "height": 112
        },
        "id": "Dkg8Ers1-J7D",
        "outputId": "52508684-e0c5-4703-a714-e87dd616f633"
      },
      "outputs": [
        {
          "data": {
            "text/html": [
              "<div>\n",
              "<style scoped>\n",
              "    .dataframe tbody tr th:only-of-type {\n",
              "        vertical-align: middle;\n",
              "    }\n",
              "\n",
              "    .dataframe tbody tr th {\n",
              "        vertical-align: top;\n",
              "    }\n",
              "\n",
              "    .dataframe thead th {\n",
              "        text-align: right;\n",
              "    }\n",
              "</style>\n",
              "<table border=\"1\" class=\"dataframe\">\n",
              "  <thead>\n",
              "    <tr style=\"text-align: right;\">\n",
              "      <th></th>\n",
              "      <th>Age</th>\n",
              "      <th>Sex</th>\n",
              "      <th>BP</th>\n",
              "      <th>Cholesterol</th>\n",
              "      <th>Na_to_K</th>\n",
              "    </tr>\n",
              "  </thead>\n",
              "  <tbody>\n",
              "    <tr>\n",
              "      <th>0</th>\n",
              "      <td>23</td>\n",
              "      <td>F</td>\n",
              "      <td>HIGH</td>\n",
              "      <td>HIGH</td>\n",
              "      <td>25.355</td>\n",
              "    </tr>\n",
              "    <tr>\n",
              "      <th>1</th>\n",
              "      <td>47</td>\n",
              "      <td>M</td>\n",
              "      <td>LOW</td>\n",
              "      <td>HIGH</td>\n",
              "      <td>13.093</td>\n",
              "    </tr>\n",
              "  </tbody>\n",
              "</table>\n",
              "</div>"
            ],
            "text/plain": [
              "   Age Sex    BP Cholesterol  Na_to_K\n",
              "0   23   F  HIGH        HIGH   25.355\n",
              "1   47   M   LOW        HIGH   13.093"
            ]
          },
          "execution_count": 7,
          "metadata": {},
          "output_type": "execute_result"
        }
      ],
      "source": [
        "x = df.iloc[:,0:5]\n",
        "x.head(2)"
      ]
    },
    {
      "cell_type": "code",
      "execution_count": 8,
      "metadata": {
        "colab": {
          "base_uri": "https://localhost:8080/"
        },
        "id": "Urnvwd9d-USW",
        "outputId": "33bb819b-ae70-4c33-dca0-1fe16633a171"
      },
      "outputs": [
        {
          "name": "stdout",
          "output_type": "stream",
          "text": [
            "['DrugY' 'drugC' 'drugX' 'drugA' 'drugB']\n"
          ]
        }
      ],
      "source": [
        "y = df.iloc[:,5:]\n",
        "print(df['Drug'].unique())"
      ]
    },
    {
      "cell_type": "code",
      "execution_count": 12,
      "metadata": {
        "id": "VyeFnRhv9rxJ"
      },
      "outputs": [
        {
          "ename": "ModuleNotFoundError",
          "evalue": "No module named 'sklearn'",
          "output_type": "error",
          "traceback": [
            "\u001b[1;31m---------------------------------------------------------------------------\u001b[0m",
            "\u001b[1;31mModuleNotFoundError\u001b[0m                       Traceback (most recent call last)",
            "Cell \u001b[1;32mIn[12], line 1\u001b[0m\n\u001b[1;32m----> 1\u001b[0m \u001b[39mfrom\u001b[39;00m \u001b[39msklearn\u001b[39;00m\u001b[39m.\u001b[39;00m\u001b[39mmodel_selection\u001b[39;00m \u001b[39mimport\u001b[39;00m train_test_split\n\u001b[0;32m      2\u001b[0m xtrain,xtest,ytrain,ytest \u001b[39m=\u001b[39m train_test_split(x,y,test_size\u001b[39m=\u001b[39m\u001b[39m0.2\u001b[39m,random_state\u001b[39m=\u001b[39m\u001b[39m21\u001b[39m)\n",
            "\u001b[1;31mModuleNotFoundError\u001b[0m: No module named 'sklearn'"
          ]
        }
      ],
      "source": [
        "from sklearn.model_selection import train_test_split\n",
        "xtrain,xtest,ytrain,ytest = train_test_split(x,y,test_size=0.2,random_state=21)"
      ]
    },
    {
      "cell_type": "code",
      "execution_count": null,
      "metadata": {
        "colab": {
          "base_uri": "https://localhost:8080/"
        },
        "id": "2RXEmZfx-kDW",
        "outputId": "fc9edec4-5fdd-4c08-f77b-bfb116ee41a6"
      },
      "outputs": [],
      "source": [
        "xtrain.shape, xtest.shape, ytrain.shape, ytest.shape"
      ]
    },
    {
      "cell_type": "code",
      "execution_count": null,
      "metadata": {
        "colab": {
          "base_uri": "https://localhost:8080/",
          "height": 206
        },
        "id": "pSfh7QM7UXI5",
        "outputId": "f72fca56-bc36-4df7-b1e6-275c41e861cb"
      },
      "outputs": [],
      "source": [
        "ytrain.head()"
      ]
    },
    {
      "cell_type": "code",
      "execution_count": null,
      "metadata": {
        "colab": {
          "base_uri": "https://localhost:8080/",
          "height": 206
        },
        "id": "Fk1z0gqe_uXe",
        "outputId": "19ce7104-9821-417e-89b7-0af3551f22f6"
      },
      "outputs": [],
      "source": [
        "from sklearn.preprocessing import LabelEncoder\n",
        "le = LabelEncoder()\n",
        "xtrain['BP'] = le.fit_transform(xtrain['BP'])\n",
        "xtest['BP'] = le.transform(xtest['BP'])\n",
        "xtrain['Sex'] = le.fit_transform(xtrain['Sex'])\n",
        "xtest['Sex'] = le.transform(xtest['Sex'])\n",
        "xtrain['Cholesterol'] = le.fit_transform(xtrain['Cholesterol'])\n",
        "xtest['Cholesterol'] = le.transform(xtest['Cholesterol'])\n",
        "\n",
        "ytrain['Drug'] = le.fit_transform(ytrain['Drug'])\n",
        "ytest['Drug'] = le.transform(ytest['Drug'])\n",
        "\n",
        "xtrain.head()"
      ]
    },
    {
      "cell_type": "code",
      "execution_count": null,
      "metadata": {
        "colab": {
          "base_uri": "https://localhost:8080/",
          "height": 206
        },
        "id": "Tc6NJRjFBlsd",
        "outputId": "3a2f025b-eb3c-4076-834b-fae415aeaa8f"
      },
      "outputs": [],
      "source": [
        "xtest.head()"
      ]
    },
    {
      "cell_type": "code",
      "execution_count": null,
      "metadata": {
        "colab": {
          "base_uri": "https://localhost:8080/"
        },
        "id": "A8_tGp10Mw09",
        "outputId": "21c3d1b9-f155-4b8b-91f2-60f5095fb29b"
      },
      "outputs": [],
      "source": [
        "ytrain.info()"
      ]
    },
    {
      "cell_type": "code",
      "execution_count": null,
      "metadata": {
        "id": "9GiiwplG_QhM"
      },
      "outputs": [],
      "source": [
        "from tensorflow.keras.models import Sequential\n",
        "from tensorflow.keras.layers import Dense"
      ]
    },
    {
      "cell_type": "code",
      "execution_count": null,
      "metadata": {
        "id": "Eu_qUpCL-9Oe"
      },
      "outputs": [],
      "source": [
        "# # Initializing the seq model\n",
        "# reg_model = Sequential()\n",
        "# # Adding the input layer to the model\n",
        "# reg_model.add(Dense(4,activation='relu'))\n",
        "# # Adding the 1st hidden layer to the model\n",
        "# reg_model.add(Dense(64,activation='relu'))\n",
        "# # Adding the 2nd hidden layer to the model\n",
        "# reg_model.add(Dense(32,activation='relu'))\n",
        "# # Adding output layer\n",
        "# reg_model.add(Dense(1,activation='linear'))\n",
        "model = Sequential()\n",
        "# model.add(layers.Flatten(input_shape=()))\n",
        "model.add(Dense(5,activation='relu'))\n",
        "model.add(Dense(22,activation='relu'))\n",
        "model.add(Dense(34,activation='relu'))\n",
        "model.add(Dense(22,activation='relu'))\n",
        "model.add(Dense(1,activation='linear'))"
      ]
    },
    {
      "cell_type": "code",
      "execution_count": null,
      "metadata": {
        "id": "Q52ImIsN_A6W"
      },
      "outputs": [],
      "source": [
        "# reg_model.compile(optimizer='adam',loss='mse')\n",
        "model.compile(optimizer='adam',loss='mse')"
      ]
    },
    {
      "cell_type": "code",
      "execution_count": null,
      "metadata": {
        "colab": {
          "base_uri": "https://localhost:8080/"
        },
        "id": "-AoScrS__DI0",
        "outputId": "8e8d8648-f0c3-40c4-889b-fd29be1e824d"
      },
      "outputs": [],
      "source": [
        "model.fit(xtrain,ytrain,batch_size=6,epochs=40)"
      ]
    },
    {
      "cell_type": "code",
      "execution_count": null,
      "metadata": {
        "colab": {
          "base_uri": "https://localhost:8080/"
        },
        "id": "eTDDJKSE_F8-",
        "outputId": "803cd64f-dc06-47bc-a01a-818e600fe849"
      },
      "outputs": [],
      "source": [
        "result = model.predict(xtest)"
      ]
    },
    {
      "cell_type": "code",
      "execution_count": null,
      "metadata": {
        "colab": {
          "base_uri": "https://localhost:8080/",
          "height": 1000
        },
        "id": "pOPKDyP1_IOx",
        "outputId": "db974708-7ec2-4a89-f2bf-bf5b88df44fd"
      },
      "outputs": [],
      "source": [
        "comp = pd.DataFrame(ytest)  # Creating a dataframe\n",
        "comp.columns = ['Actual Value']  # Changing the column name\n",
        "\n",
        "result = np.rint(ypred).astype(int) # Creating a column based onth prediction\n",
        "# result = le.inverse_transform(result)\n",
        "comp['Predicted values'] = result\n",
        "# print(comp['Predicted values'].unique())\n",
        "comp"
      ]
    },
    {
      "cell_type": "code",
      "execution_count": null,
      "metadata": {
        "id": "qGyN7H6xbtbB"
      },
      "outputs": [],
      "source": []
    }
  ],
  "metadata": {
    "colab": {
      "provenance": []
    },
    "kernelspec": {
      "display_name": "Python 3",
      "name": "python3"
    },
    "language_info": {
      "codemirror_mode": {
        "name": "ipython",
        "version": 3
      },
      "file_extension": ".py",
      "mimetype": "text/x-python",
      "name": "python",
      "nbconvert_exporter": "python",
      "pygments_lexer": "ipython3",
      "version": "3.11.4"
    }
  },
  "nbformat": 4,
  "nbformat_minor": 0
}
